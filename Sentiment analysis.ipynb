{
 "cells": [
  {
   "cell_type": "markdown",
   "id": "5db31d79",
   "metadata": {},
   "source": [
    "### What is NLP(Natural Language Processing)?\n",
    "Natural language processing (NLP) refers to the branch of computer science—and more specifically, the branch of `artificial intelligence or AI—concerned` with giving computers the ability to understand text and spoken words in much the same way human beings can.\n",
    "\n",
    "\n",
    "### Applications\n",
    "* Chat bot\n",
    "* Translation\n",
    "* Sentiment Analysis"
   ]
  },
  {
   "cell_type": "markdown",
   "id": "6903cb49",
   "metadata": {},
   "source": [
    "# Twitter Sentiment Analysis (🙂 - 😔)"
   ]
  },
  {
   "cell_type": "code",
   "execution_count": 2,
   "id": "f54a255d",
   "metadata": {},
   "outputs": [],
   "source": [
    "# Import some basic Libraries\n",
    "import pandas as pd\n",
    "import numpy as np\n",
    "import matplotlib.pyplot as plt"
   ]
  },
  {
   "cell_type": "markdown",
   "id": "71d9cb79",
   "metadata": {},
   "source": [
    "### Import the dataset\n",
    "\n",
    "`df = pd.read_csv(\"dataset/dataset.csv\")` <br>\n",
    "The given data is not formated in 'utf-8' codec <br>\n",
    "So I have Saved the csv file in UTF-8 codec "
   ]
  },
  {
   "cell_type": "code",
   "execution_count": 3,
   "id": "b552d0c9",
   "metadata": {},
   "outputs": [
    {
     "data": {
      "text/html": [
       "<div>\n",
       "<style scoped>\n",
       "    .dataframe tbody tr th:only-of-type {\n",
       "        vertical-align: middle;\n",
       "    }\n",
       "\n",
       "    .dataframe tbody tr th {\n",
       "        vertical-align: top;\n",
       "    }\n",
       "\n",
       "    .dataframe thead th {\n",
       "        text-align: right;\n",
       "    }\n",
       "</style>\n",
       "<table border=\"1\" class=\"dataframe\">\n",
       "  <thead>\n",
       "    <tr style=\"text-align: right;\">\n",
       "      <th></th>\n",
       "      <th>ItemID</th>\n",
       "      <th>Sentiment</th>\n",
       "      <th>SentimentText</th>\n",
       "    </tr>\n",
       "  </thead>\n",
       "  <tbody>\n",
       "    <tr>\n",
       "      <th>0</th>\n",
       "      <td>1</td>\n",
       "      <td>0</td>\n",
       "      <td>is so sad for my APL frie...</td>\n",
       "    </tr>\n",
       "    <tr>\n",
       "      <th>1</th>\n",
       "      <td>2</td>\n",
       "      <td>0</td>\n",
       "      <td>I missed the New Moon trail...</td>\n",
       "    </tr>\n",
       "    <tr>\n",
       "      <th>2</th>\n",
       "      <td>3</td>\n",
       "      <td>1</td>\n",
       "      <td>omg its already 7:30 :O</td>\n",
       "    </tr>\n",
       "    <tr>\n",
       "      <th>3</th>\n",
       "      <td>4</td>\n",
       "      <td>0</td>\n",
       "      <td>.. Omgaga. Im sooo  im gunna CRy. I'...</td>\n",
       "    </tr>\n",
       "    <tr>\n",
       "      <th>4</th>\n",
       "      <td>5</td>\n",
       "      <td>0</td>\n",
       "      <td>i think mi bf is cheating on me!!!   ...</td>\n",
       "    </tr>\n",
       "  </tbody>\n",
       "</table>\n",
       "</div>"
      ],
      "text/plain": [
       "   ItemID  Sentiment                                      SentimentText\n",
       "0       1          0                       is so sad for my APL frie...\n",
       "1       2          0                     I missed the New Moon trail...\n",
       "2       3          1                            omg its already 7:30 :O\n",
       "3       4          0            .. Omgaga. Im sooo  im gunna CRy. I'...\n",
       "4       5          0           i think mi bf is cheating on me!!!   ..."
      ]
     },
     "execution_count": 3,
     "metadata": {},
     "output_type": "execute_result"
    }
   ],
   "source": [
    "df = pd.read_csv('dataset/dataset-UTF-8.csv')\n",
    "df.head()"
   ]
  },
  {
   "cell_type": "code",
   "execution_count": 4,
   "id": "1be5a941",
   "metadata": {},
   "outputs": [
    {
     "data": {
      "text/html": [
       "<div>\n",
       "<style scoped>\n",
       "    .dataframe tbody tr th:only-of-type {\n",
       "        vertical-align: middle;\n",
       "    }\n",
       "\n",
       "    .dataframe tbody tr th {\n",
       "        vertical-align: top;\n",
       "    }\n",
       "\n",
       "    .dataframe thead th {\n",
       "        text-align: right;\n",
       "    }\n",
       "</style>\n",
       "<table border=\"1\" class=\"dataframe\">\n",
       "  <thead>\n",
       "    <tr style=\"text-align: right;\">\n",
       "      <th></th>\n",
       "      <th>Sentiment</th>\n",
       "      <th>SentimentText</th>\n",
       "    </tr>\n",
       "  </thead>\n",
       "  <tbody>\n",
       "    <tr>\n",
       "      <th>0</th>\n",
       "      <td>0</td>\n",
       "      <td>is so sad for my APL frie...</td>\n",
       "    </tr>\n",
       "    <tr>\n",
       "      <th>1</th>\n",
       "      <td>0</td>\n",
       "      <td>I missed the New Moon trail...</td>\n",
       "    </tr>\n",
       "    <tr>\n",
       "      <th>2</th>\n",
       "      <td>1</td>\n",
       "      <td>omg its already 7:30 :O</td>\n",
       "    </tr>\n",
       "    <tr>\n",
       "      <th>3</th>\n",
       "      <td>0</td>\n",
       "      <td>.. Omgaga. Im sooo  im gunna CRy. I'...</td>\n",
       "    </tr>\n",
       "    <tr>\n",
       "      <th>4</th>\n",
       "      <td>0</td>\n",
       "      <td>i think mi bf is cheating on me!!!   ...</td>\n",
       "    </tr>\n",
       "  </tbody>\n",
       "</table>\n",
       "</div>"
      ],
      "text/plain": [
       "   Sentiment                                      SentimentText\n",
       "0          0                       is so sad for my APL frie...\n",
       "1          0                     I missed the New Moon trail...\n",
       "2          1                            omg its already 7:30 :O\n",
       "3          0            .. Omgaga. Im sooo  im gunna CRy. I'...\n",
       "4          0           i think mi bf is cheating on me!!!   ..."
      ]
     },
     "execution_count": 4,
     "metadata": {},
     "output_type": "execute_result"
    }
   ],
   "source": [
    "# Now remove ItemID column\n",
    "df.drop([\"ItemID\"],inplace = True,axis = 1)\n",
    "df.head()"
   ]
  },
  {
   "cell_type": "markdown",
   "id": "9a042b5d",
   "metadata": {},
   "source": [
    "## EDA"
   ]
  },
  {
   "cell_type": "code",
   "execution_count": 5,
   "id": "60abb9bb",
   "metadata": {},
   "outputs": [
    {
     "data": {
      "text/plain": [
       "(99989, 2)"
      ]
     },
     "execution_count": 5,
     "metadata": {},
     "output_type": "execute_result"
    }
   ],
   "source": [
    "df.shape"
   ]
  },
  {
   "cell_type": "code",
   "execution_count": 6,
   "id": "c5f9d024",
   "metadata": {},
   "outputs": [
    {
     "data": {
      "text/plain": [
       "Sentiment        99989\n",
       "SentimentText    99989\n",
       "dtype: int64"
      ]
     },
     "execution_count": 6,
     "metadata": {},
     "output_type": "execute_result"
    }
   ],
   "source": [
    "df.isnull().count()\n",
    "# There isn't any null value"
   ]
  },
  {
   "cell_type": "code",
   "execution_count": 7,
   "id": "dc2bf4b9",
   "metadata": {},
   "outputs": [
    {
     "data": {
      "text/plain": [
       "1    56457\n",
       "0    43532\n",
       "Name: Sentiment, dtype: int64"
      ]
     },
     "execution_count": 7,
     "metadata": {},
     "output_type": "execute_result"
    }
   ],
   "source": [
    "df.Sentiment.value_counts()"
   ]
  },
  {
   "cell_type": "markdown",
   "id": "5c61c243",
   "metadata": {},
   "source": [
    "### 😔 - 🙂\n",
    "* 0:Indicates the Sad 😔\n",
    "* 1:Indicates the Happy 🙂"
   ]
  },
  {
   "cell_type": "code",
   "execution_count": 8,
   "id": "313f739e",
   "metadata": {},
   "outputs": [
    {
     "data": {
      "image/png": "[encoded data removed]",
      "text/plain": [
       "<Figure size 432x288 with 1 Axes>"
      ]
     },
     "metadata": {
      "needs_background": "light"
     },
     "output_type": "display_data"
    }
   ],
   "source": [
    "num_of_data = df.shape[0]\n",
    "num_of_sad_data = df.Sentiment.value_counts()[0]\n",
    "num_of_happy_data = df.Sentiment.value_counts()[1]\n",
    "\n",
    "fig,ax = plt.subplots()\n",
    "ax.barh([\"Sad\",\"Happy\",\"Total\"],[num_of_sad_data,num_of_happy_data,num_of_data],color = [\"r\",\"g\",\"b\"])\n",
    "plt.show()"
   ]
  },
  {
   "cell_type": "code",
   "execution_count": 9,
   "id": "148b13d5",
   "metadata": {},
   "outputs": [
    {
     "data": {
      "image/png": "[encoded data removed]",
      "text/plain": [
       "<Figure size 432x288 with 1 Axes>"
      ]
     },
     "metadata": {},
     "output_type": "display_data"
    }
   ],
   "source": [
    "fig,ax = plt.subplots()\n",
    "ax.pie([num_of_happy_data,num_of_sad_data], \n",
    "       labels = [\"Happy\",\"Sad\"],\n",
    "       colors = ['g','r'],\n",
    "       shadow = True,\n",
    "       explode = [0.05,0])\n",
    "ax.legend()\n",
    "plt.show()"
   ]
  },
  {
   "cell_type": "markdown",
   "id": "a55dc31d",
   "metadata": {},
   "source": [
    "### Tokenization\n",
    "\n",
    "* Tokenization is the process, During that process Paragraph will be converted to Sentenses and sentenses to word"
   ]
  },
  {
   "cell_type": "code",
   "execution_count": 10,
   "id": "1361f73e",
   "metadata": {},
   "outputs": [],
   "source": [
    "import nltk"
   ]
  },
  {
   "cell_type": "code",
   "execution_count": 11,
   "id": "f6b5cd02",
   "metadata": {},
   "outputs": [],
   "source": [
    "dummy_text = \"Lorem Ipsum is simply dummy text of the printing and typesetting industry. Lorem Ipsum has been the industry's standard dummy text ever since the 1500s, when an unknown printer took a galley of type and scrambled it to make a type specimen book. It has survived not only five centuries, but also the leap into electronic typesetting, remaining essentially unchanged. It was popularised in the 1960s with the release of Letraset sheets containing Lorem Ipsum passages, and more recently with desktop publishing software like Aldus PageMaker including versions of Lorem Ipsum.\""
   ]
  },
  {
   "cell_type": "code",
   "execution_count": 12,
   "id": "41bc2ddf",
   "metadata": {},
   "outputs": [
    {
     "data": {
      "text/plain": [
       "['Lorem Ipsum is simply dummy text of the printing and typesetting industry.',\n",
       " \"Lorem Ipsum has been the industry's standard dummy text ever since the 1500s, when an unknown printer took a galley of type and scrambled it to make a type specimen book.\",\n",
       " 'It has survived not only five centuries, but also the leap into electronic typesetting, remaining essentially unchanged.',\n",
       " 'It was popularised in the 1960s with the release of Letraset sheets containing Lorem Ipsum passages, and more recently with desktop publishing software like Aldus PageMaker including versions of Lorem Ipsum.']"
      ]
     },
     "execution_count": 12,
     "metadata": {},
     "output_type": "execute_result"
    }
   ],
   "source": [
    "# sent_tokenize convert the Paragraph to sentences\n",
    "sentences = nltk.sent_tokenize(dummy_text)\n",
    "sentences"
   ]
  },
  {
   "cell_type": "code",
   "execution_count": 13,
   "id": "24c6ec80",
   "metadata": {},
   "outputs": [
    {
     "data": {
      "text/plain": [
       "['Lorem',\n",
       " 'Ipsum',\n",
       " 'is',\n",
       " 'simply',\n",
       " 'dummy',\n",
       " 'text',\n",
       " 'of',\n",
       " 'the',\n",
       " 'printing',\n",
       " 'and']"
      ]
     },
     "execution_count": 13,
     "metadata": {},
     "output_type": "execute_result"
    }
   ],
   "source": [
    "# word_tokenize convert the setences to word\n",
    "words = nltk.word_tokenize(dummy_text)\n",
    "words[:10]"
   ]
  },
  {
   "cell_type": "markdown",
   "id": "f583ce73",
   "metadata": {},
   "source": [
    "## Stemming\n",
    "\n",
    "* stemming is the process of reducing inflected (or sometimes derived) words to their word stem, base or root\n",
    "\n",
    "eg. eating - eat"
   ]
  },
  {
   "cell_type": "code",
   "execution_count": 14,
   "id": "fd79e688",
   "metadata": {},
   "outputs": [],
   "source": [
    "from nltk.stem import PorterStemmer\n",
    "from nltk.corpus import stopwords"
   ]
  },
  {
   "cell_type": "code",
   "execution_count": 15,
   "id": "f617fe05",
   "metadata": {},
   "outputs": [],
   "source": [
    "stemmer = PorterStemmer()"
   ]
  },
  {
   "cell_type": "code",
   "execution_count": 16,
   "id": "6933f35c",
   "metadata": {},
   "outputs": [],
   "source": [
    "stemmedSentence = \"\"\n",
    "for word in nltk.word_tokenize(sentences[0]):\n",
    "    stemmedSentence += stemmer.stem(word)+ \" \""
   ]
  },
  {
   "cell_type": "code",
   "execution_count": 17,
   "id": "7636f148",
   "metadata": {},
   "outputs": [
    {
     "name": "stdout",
     "output_type": "stream",
     "text": [
      "Original :  Lorem Ipsum is simply dummy text of the printing and typesetting industry.\n",
      "Stemmed:  lorem ipsum is simpli dummi text of the print and typeset industri . \n"
     ]
    }
   ],
   "source": [
    "print(\"Original : \",sentences[0])\n",
    "print(\"Stemmed: \", stemmedSentence)"
   ]
  },
  {
   "cell_type": "markdown",
   "id": "7528a5de",
   "metadata": {},
   "source": [
    "### Remove stop words\n",
    "\n",
    "* Stop words are basically a set of commonly used words in any language, not just English.\n",
    "* eg. He, She, It, of.....\n",
    "* This words are not usefull for sentiment analysis"
   ]
  },
  {
   "cell_type": "code",
   "execution_count": 18,
   "id": "c2a116e8",
   "metadata": {},
   "outputs": [
    {
     "name": "stderr",
     "output_type": "stream",
     "text": [
      "[nltk_data] Downloading package stopwords to /Users/dhanu/nltk_data...\n",
      "[nltk_data]   Package stopwords is already up-to-date!\n"
     ]
    }
   ],
   "source": [
    "nltk.download('stopwords')\n",
    "no_stop = \"\"\n",
    "for word in nltk.word_tokenize(sentences[0]):\n",
    "    if word not in stopwords.words('english'):\n",
    "        word = stemmer.stem(word)\n",
    "        no_stop += word + \" \""
   ]
  },
  {
   "cell_type": "code",
   "execution_count": 19,
   "id": "8e119bf8",
   "metadata": {},
   "outputs": [
    {
     "name": "stdout",
     "output_type": "stream",
     "text": [
      "Original :  Lorem Ipsum is simply dummy text of the printing and typesetting industry.\n",
      "Stemmed:  lorem ipsum is simpli dummi text of the print and typeset industri . \n",
      "No stop:  lorem ipsum simpli dummi text print typeset industri . \n"
     ]
    }
   ],
   "source": [
    "print(\"Original : \",sentences[0])\n",
    "print(\"Stemmed: \", stemmedSentence)\n",
    "print(\"No stop: \", no_stop)"
   ]
  },
  {
   "cell_type": "markdown",
   "id": "322bb0ed",
   "metadata": {},
   "source": [
    "## Bag of Words (BoW)\n",
    "\n",
    "- let's take an examples that can help to understand\n",
    "\n",
    " sentense 1 : This is a demo sentence <br>\n",
    " sentense 2 : This is a dummy sentence<br>\n",
    " | - |  demo | dummy | sentence |\n",
    " |---|---|---|---|\n",
    " | sentence 1 | 1 | 0 | 1|\n",
    " | sentence 2 | 0 | 1 | 1|\n",
    " \n",
    "* here 'this', 'is', 'a'.... these three words are not important"
   ]
  },
  {
   "cell_type": "code",
   "execution_count": 20,
   "id": "ba1888d4",
   "metadata": {},
   "outputs": [],
   "source": [
    "from nltk.stem.porter import PorterStemmer\n",
    "from nltk.stem import WordNetLemmatizer\n",
    "import re"
   ]
  },
  {
   "cell_type": "code",
   "execution_count": 21,
   "id": "9088522c",
   "metadata": {},
   "outputs": [],
   "source": [
    "ps = PorterStemmer()\n",
    "wordnet=WordNetLemmatizer()"
   ]
  },
  {
   "cell_type": "code",
   "execution_count": 22,
   "id": "1438014c",
   "metadata": {},
   "outputs": [],
   "source": [
    "sentences = nltk.sent_tokenize(dummy_text)\n",
    "corpus = []"
   ]
  },
  {
   "cell_type": "code",
   "execution_count": 23,
   "id": "aeb8af3b",
   "metadata": {},
   "outputs": [],
   "source": [
    "for i in range(len(sentences)):\n",
    "    review = re.sub('[^a-zA-Z]', ' ', sentences[i])\n",
    "    review = review.lower()\n",
    "    review = review.split()\n",
    "    review = [ps.stem(word) for word in review if not word in set(stopwords.words('english'))]\n",
    "    review = ' '.join(review)\n",
    "    corpus.append(review)"
   ]
  },
  {
   "cell_type": "code",
   "execution_count": 24,
   "id": "f591f856",
   "metadata": {},
   "outputs": [
    {
     "data": {
      "text/plain": [
       "['lorem ipsum simpli dummi text print typeset industri',\n",
       " 'lorem ipsum industri standard dummi text ever sinc unknown printer took galley type scrambl make type specimen book']"
      ]
     },
     "execution_count": 24,
     "metadata": {},
     "output_type": "execute_result"
    }
   ],
   "source": [
    "corpus[:2]"
   ]
  },
  {
   "cell_type": "code",
   "execution_count": 25,
   "id": "5f33c2ea",
   "metadata": {},
   "outputs": [
    {
     "data": {
      "text/html": [
       "<div>\n",
       "<style scoped>\n",
       "    .dataframe tbody tr th:only-of-type {\n",
       "        vertical-align: middle;\n",
       "    }\n",
       "\n",
       "    .dataframe tbody tr th {\n",
       "        vertical-align: top;\n",
       "    }\n",
       "\n",
       "    .dataframe thead th {\n",
       "        text-align: right;\n",
       "    }\n",
       "</style>\n",
       "<table border=\"1\" class=\"dataframe\">\n",
       "  <thead>\n",
       "    <tr style=\"text-align: right;\">\n",
       "      <th></th>\n",
       "      <th>0</th>\n",
       "      <th>1</th>\n",
       "      <th>2</th>\n",
       "      <th>3</th>\n",
       "      <th>4</th>\n",
       "      <th>5</th>\n",
       "      <th>6</th>\n",
       "      <th>7</th>\n",
       "      <th>8</th>\n",
       "      <th>9</th>\n",
       "      <th>...</th>\n",
       "      <th>34</th>\n",
       "      <th>35</th>\n",
       "      <th>36</th>\n",
       "      <th>37</th>\n",
       "      <th>38</th>\n",
       "      <th>39</th>\n",
       "      <th>40</th>\n",
       "      <th>41</th>\n",
       "      <th>42</th>\n",
       "      <th>43</th>\n",
       "    </tr>\n",
       "  </thead>\n",
       "  <tbody>\n",
       "    <tr>\n",
       "      <th>0</th>\n",
       "      <td>0</td>\n",
       "      <td>0</td>\n",
       "      <td>0</td>\n",
       "      <td>0</td>\n",
       "      <td>0</td>\n",
       "      <td>0</td>\n",
       "      <td>1</td>\n",
       "      <td>0</td>\n",
       "      <td>0</td>\n",
       "      <td>0</td>\n",
       "      <td>...</td>\n",
       "      <td>0</td>\n",
       "      <td>0</td>\n",
       "      <td>0</td>\n",
       "      <td>1</td>\n",
       "      <td>0</td>\n",
       "      <td>0</td>\n",
       "      <td>1</td>\n",
       "      <td>0</td>\n",
       "      <td>0</td>\n",
       "      <td>0</td>\n",
       "    </tr>\n",
       "    <tr>\n",
       "      <th>1</th>\n",
       "      <td>0</td>\n",
       "      <td>0</td>\n",
       "      <td>1</td>\n",
       "      <td>0</td>\n",
       "      <td>0</td>\n",
       "      <td>0</td>\n",
       "      <td>1</td>\n",
       "      <td>0</td>\n",
       "      <td>0</td>\n",
       "      <td>1</td>\n",
       "      <td>...</td>\n",
       "      <td>1</td>\n",
       "      <td>1</td>\n",
       "      <td>0</td>\n",
       "      <td>1</td>\n",
       "      <td>1</td>\n",
       "      <td>2</td>\n",
       "      <td>0</td>\n",
       "      <td>0</td>\n",
       "      <td>1</td>\n",
       "      <td>0</td>\n",
       "    </tr>\n",
       "    <tr>\n",
       "      <th>2</th>\n",
       "      <td>0</td>\n",
       "      <td>1</td>\n",
       "      <td>0</td>\n",
       "      <td>1</td>\n",
       "      <td>0</td>\n",
       "      <td>0</td>\n",
       "      <td>0</td>\n",
       "      <td>1</td>\n",
       "      <td>1</td>\n",
       "      <td>0</td>\n",
       "      <td>...</td>\n",
       "      <td>0</td>\n",
       "      <td>0</td>\n",
       "      <td>1</td>\n",
       "      <td>0</td>\n",
       "      <td>0</td>\n",
       "      <td>0</td>\n",
       "      <td>1</td>\n",
       "      <td>1</td>\n",
       "      <td>0</td>\n",
       "      <td>0</td>\n",
       "    </tr>\n",
       "    <tr>\n",
       "      <th>3</th>\n",
       "      <td>1</td>\n",
       "      <td>0</td>\n",
       "      <td>0</td>\n",
       "      <td>0</td>\n",
       "      <td>1</td>\n",
       "      <td>1</td>\n",
       "      <td>0</td>\n",
       "      <td>0</td>\n",
       "      <td>0</td>\n",
       "      <td>0</td>\n",
       "      <td>...</td>\n",
       "      <td>0</td>\n",
       "      <td>0</td>\n",
       "      <td>0</td>\n",
       "      <td>0</td>\n",
       "      <td>0</td>\n",
       "      <td>0</td>\n",
       "      <td>0</td>\n",
       "      <td>0</td>\n",
       "      <td>0</td>\n",
       "      <td>1</td>\n",
       "    </tr>\n",
       "  </tbody>\n",
       "</table>\n",
       "<p>4 rows × 44 columns</p>\n",
       "</div>"
      ],
      "text/plain": [
       "   0   1   2   3   4   5   6   7   8   9   ...  34  35  36  37  38  39  40  \\\n",
       "0   0   0   0   0   0   0   1   0   0   0  ...   0   0   0   1   0   0   1   \n",
       "1   0   0   1   0   0   0   1   0   0   1  ...   1   1   0   1   1   2   0   \n",
       "2   0   1   0   1   0   0   0   1   1   0  ...   0   0   1   0   0   0   1   \n",
       "3   1   0   0   0   1   1   0   0   0   0  ...   0   0   0   0   0   0   0   \n",
       "\n",
       "   41  42  43  \n",
       "0   0   0   0  \n",
       "1   0   1   0  \n",
       "2   1   0   0  \n",
       "3   0   0   1  \n",
       "\n",
       "[4 rows x 44 columns]"
      ]
     },
     "execution_count": 25,
     "metadata": {},
     "output_type": "execute_result"
    }
   ],
   "source": [
    "from sklearn.feature_extraction.text import CountVectorizer\n",
    "cv = CountVectorizer(max_features = 1500)\n",
    "X = cv.fit_transform(corpus).toarray()\n",
    "pd.DataFrame(data = X)"
   ]
  },
  {
   "cell_type": "markdown",
   "id": "58fde5cc",
   "metadata": {},
   "source": [
    "## TF-IDF\n",
    "\n",
    "* TF( Term Frequency) = `(no of rep of words in sentence) / (no of words in sentence)`\n",
    "\n",
    "     let's take an examples that can help to understand\n",
    "\n",
    " sentence 1 : This is a demo sentence <br>\n",
    " sentence 2 : This is a dummy sentence<br>\n",
    " sentence 3 : This is a dummy demo sentence \n",
    " | - |  demo | dummy | sentence |\n",
    " |---|---|---|---|\n",
    " | sentence 1 | 1/2 | 0 | 1/2|\n",
    " | sentence 2 | 0 | 1/2 | 1/2|\n",
    " | sentence 3 | 1/3 | 1/3 | 1/3 |\n",
    " \n",
    "* IDF (Inverse Document Frequency) = `log((no of sentences)/(no of sentences which contain word))`\n",
    "\n",
    "| demo | dummy | sentence |\n",
    "| --- | --- | --- |\n",
    "| log(3/2) | log(3/2) | log(3/3) = 0 |\n",
    "\n",
    "    now, multiply the above values to TF data\n",
    "    \n",
    " | - |  demo | dummy | sentence |\n",
    " |---|---|---|---|\n",
    " | sentence 1 | 1/2 * log(3/2) | 0 | 1/2 * log(3/3) = `0`|\n",
    " | sentence 2 | 0 | 1/2 | 1/2|\n",
    " | sentence 3 | 1/3 * log(3/2)| 1/3 * log(3/2) | 1/3 * log(3/3) = `0` |"
   ]
  },
  {
   "cell_type": "markdown",
   "id": "de50c18a",
   "metadata": {},
   "source": [
    "## Cleaning and Preprocessing The Data"
   ]
  },
  {
   "cell_type": "code",
   "execution_count": 26,
   "id": "d49fae62",
   "metadata": {},
   "outputs": [
    {
     "name": "stderr",
     "output_type": "stream",
     "text": [
      "[nltk_data] Downloading package stopwords to /Users/dhanu/nltk_data...\n",
      "[nltk_data]   Package stopwords is already up-to-date!\n"
     ]
    },
    {
     "data": {
      "text/plain": [
       "True"
      ]
     },
     "execution_count": 26,
     "metadata": {},
     "output_type": "execute_result"
    }
   ],
   "source": [
    "import re\n",
    "import nltk\n",
    "nltk.download('stopwords')"
   ]
  },
  {
   "cell_type": "code",
   "execution_count": 27,
   "id": "b0a87c2a",
   "metadata": {},
   "outputs": [
    {
     "data": {
      "text/html": [
       "<div>\n",
       "<style scoped>\n",
       "    .dataframe tbody tr th:only-of-type {\n",
       "        vertical-align: middle;\n",
       "    }\n",
       "\n",
       "    .dataframe tbody tr th {\n",
       "        vertical-align: top;\n",
       "    }\n",
       "\n",
       "    .dataframe thead th {\n",
       "        text-align: right;\n",
       "    }\n",
       "</style>\n",
       "<table border=\"1\" class=\"dataframe\">\n",
       "  <thead>\n",
       "    <tr style=\"text-align: right;\">\n",
       "      <th></th>\n",
       "      <th>Sentiment</th>\n",
       "      <th>SentimentText</th>\n",
       "    </tr>\n",
       "  </thead>\n",
       "  <tbody>\n",
       "    <tr>\n",
       "      <th>0</th>\n",
       "      <td>0</td>\n",
       "      <td>is so sad for my APL frie...</td>\n",
       "    </tr>\n",
       "    <tr>\n",
       "      <th>1</th>\n",
       "      <td>0</td>\n",
       "      <td>I missed the New Moon trail...</td>\n",
       "    </tr>\n",
       "    <tr>\n",
       "      <th>2</th>\n",
       "      <td>1</td>\n",
       "      <td>omg its already 7:30 :O</td>\n",
       "    </tr>\n",
       "    <tr>\n",
       "      <th>3</th>\n",
       "      <td>0</td>\n",
       "      <td>.. Omgaga. Im sooo  im gunna CRy. I'...</td>\n",
       "    </tr>\n",
       "    <tr>\n",
       "      <th>4</th>\n",
       "      <td>0</td>\n",
       "      <td>i think mi bf is cheating on me!!!   ...</td>\n",
       "    </tr>\n",
       "  </tbody>\n",
       "</table>\n",
       "</div>"
      ],
      "text/plain": [
       "   Sentiment                                      SentimentText\n",
       "0          0                       is so sad for my APL frie...\n",
       "1          0                     I missed the New Moon trail...\n",
       "2          1                            omg its already 7:30 :O\n",
       "3          0            .. Omgaga. Im sooo  im gunna CRy. I'...\n",
       "4          0           i think mi bf is cheating on me!!!   ..."
      ]
     },
     "execution_count": 27,
     "metadata": {},
     "output_type": "execute_result"
    }
   ],
   "source": [
    "df.reset_index()\n",
    "df.head()"
   ]
  },
  {
   "cell_type": "code",
   "execution_count": 28,
   "id": "4d525e87",
   "metadata": {},
   "outputs": [],
   "source": [
    "from nltk.corpus import stopwords\n",
    "from nltk.stem.porter import PorterStemmer\n",
    "ps = PorterStemmer()\n",
    "corpus = []\n",
    "for i in range(0, len(df)):\n",
    "    review = re.sub('[^a-zA-Z]', ' ', df['SentimentText'][i])\n",
    "    review = review.lower()\n",
    "    review = review.split()\n",
    "    \n",
    "    review = [ps.stem(word) for word in review if not word in stopwords.words('english')]\n",
    "    review = ' '.join(review)\n",
    "    corpus.append(review)"
   ]
  },
  {
   "cell_type": "code",
   "execution_count": 29,
   "id": "7c583191",
   "metadata": {},
   "outputs": [
    {
     "data": {
      "text/plain": [
       "['sad apl friend',\n",
       " 'miss new moon trailer',\n",
       " 'omg alreadi',\n",
       " 'omgaga im sooo im gunna cri dentist sinc supos get crown put min',\n",
       " 'think mi bf cheat']"
      ]
     },
     "execution_count": 29,
     "metadata": {},
     "output_type": "execute_result"
    }
   ],
   "source": [
    "corpus[:5]"
   ]
  },
  {
   "cell_type": "code",
   "execution_count": 30,
   "id": "e94d9864",
   "metadata": {},
   "outputs": [
    {
     "data": {
      "text/plain": [
       "0                         is so sad for my APL frie...\n",
       "1                       I missed the New Moon trail...\n",
       "2                              omg its already 7:30 :O\n",
       "3              .. Omgaga. Im sooo  im gunna CRy. I'...\n",
       "4             i think mi bf is cheating on me!!!   ...\n",
       "Name: SentimentText, dtype: object"
      ]
     },
     "execution_count": 30,
     "metadata": {},
     "output_type": "execute_result"
    }
   ],
   "source": [
    "df.SentimentText[:5]"
   ]
  },
  {
   "cell_type": "markdown",
   "id": "f7066a67",
   "metadata": {},
   "source": [
    "### Creating Bag of Words model"
   ]
  },
  {
   "cell_type": "code",
   "execution_count": 31,
   "id": "5fa53664",
   "metadata": {},
   "outputs": [],
   "source": [
    "from sklearn.feature_extraction.text import CountVectorizer\n",
    "cv = CountVectorizer(max_features=3500)\n",
    "X = cv.fit_transform(corpus).toarray()"
   ]
  },
  {
   "cell_type": "code",
   "execution_count": 32,
   "id": "70234952",
   "metadata": {},
   "outputs": [],
   "source": [
    "y = df.iloc[:,0].values"
   ]
  },
  {
   "cell_type": "code",
   "execution_count": 33,
   "id": "a4997db0",
   "metadata": {},
   "outputs": [],
   "source": [
    "# Train Test Split\n",
    "\n",
    "from sklearn.model_selection import train_test_split\n",
    "X_train, X_test, y_train, y_test = train_test_split(X, y, test_size = 0.20, random_state = 0)"
   ]
  },
  {
   "cell_type": "code",
   "execution_count": 34,
   "id": "b50c0834",
   "metadata": {},
   "outputs": [],
   "source": [
    "from sklearn.naive_bayes import MultinomialNB\n",
    "MultinominalModel = MultinomialNB().fit(X_train, y_train)"
   ]
  },
  {
   "cell_type": "code",
   "execution_count": 35,
   "id": "dfa6bab7",
   "metadata": {},
   "outputs": [],
   "source": [
    "y_pred=MultinominalModel.predict(X_test)"
   ]
  },
  {
   "cell_type": "code",
   "execution_count": 36,
   "id": "b79a6ec8",
   "metadata": {},
   "outputs": [
    {
     "name": "stdout",
     "output_type": "stream",
     "text": [
      "0.7561600680076509\n",
      "0.740974097409741\n"
     ]
    }
   ],
   "source": [
    "print(MultinominalModel.score(X_train,y_train))\n",
    "print(MultinominalModel.score(X_test,y_test))"
   ]
  },
  {
   "cell_type": "code",
   "execution_count": 37,
   "id": "8fec16ff",
   "metadata": {},
   "outputs": [
    {
     "data": {
      "text/plain": [
       "array([1])"
      ]
     },
     "execution_count": 37,
     "metadata": {},
     "output_type": "execute_result"
    }
   ],
   "source": [
    "# Predict\n",
    "MultinominalModel.predict(cv.transform([\"I'am very very happy\"]).toarray())"
   ]
  },
  {
   "cell_type": "markdown",
   "id": "69db4c91",
   "metadata": {},
   "source": [
    "### SCALING"
   ]
  },
  {
   "cell_type": "code",
   "execution_count": 38,
   "id": "0e3b3234",
   "metadata": {},
   "outputs": [],
   "source": [
    "from sklearn import preprocessing"
   ]
  },
  {
   "cell_type": "code",
   "execution_count": 39,
   "id": "904d9c83",
   "metadata": {},
   "outputs": [
    {
     "data": {
      "text/plain": [
       "array([[0.        ],\n",
       "       [0.11111111],\n",
       "       [0.22222222],\n",
       "       [0.33333333],\n",
       "       [0.44444444],\n",
       "       [0.55555556],\n",
       "       [0.66666667],\n",
       "       [0.77777778],\n",
       "       [0.88888889],\n",
       "       [1.        ]])"
      ]
     },
     "execution_count": 39,
     "metadata": {},
     "output_type": "execute_result"
    }
   ],
   "source": [
    "pre = np.array([1,2,3,4,5,6,7,8,9,10])\n",
    "min_max_scaler = preprocessing.MinMaxScaler()\n",
    "min_max_scaler.fit_transform(pre.reshape(-1, 1))"
   ]
  },
  {
   "cell_type": "code",
   "execution_count": 40,
   "id": "d0a9c2dd",
   "metadata": {},
   "outputs": [],
   "source": [
    "X_train_scaled = min_max_scaler.fit_transform(X_train)"
   ]
  },
  {
   "cell_type": "markdown",
   "id": "bd83eb9f",
   "metadata": {},
   "source": [
    "### Train Using ANN"
   ]
  },
  {
   "cell_type": "code",
   "execution_count": 41,
   "id": "7be0f07c",
   "metadata": {},
   "outputs": [
    {
     "name": "stderr",
     "output_type": "stream",
     "text": [
      "Using TensorFlow backend.\n"
     ]
    }
   ],
   "source": [
    "import keras"
   ]
  },
  {
   "cell_type": "code",
   "execution_count": 42,
   "id": "f444de58",
   "metadata": {},
   "outputs": [
    {
     "data": {
      "text/plain": [
       "(79991, 3500)"
      ]
     },
     "execution_count": 42,
     "metadata": {},
     "output_type": "execute_result"
    }
   ],
   "source": [
    "X_train_scaled.shape"
   ]
  },
  {
   "cell_type": "code",
   "execution_count": 43,
   "id": "b1f42215",
   "metadata": {},
   "outputs": [
    {
     "name": "stderr",
     "output_type": "stream",
     "text": [
      "2022-01-21 22:16:42.114108: I tensorflow/core/platform/cpu_feature_guard.cc:145] This TensorFlow binary is optimized with Intel(R) MKL-DNN to use the following CPU instructions in performance critical operations:  SSE4.1 SSE4.2\n",
      "To enable them in non-MKL-DNN operations, rebuild TensorFlow with the appropriate compiler flags.\n",
      "2022-01-21 22:16:42.115292: I tensorflow/core/common_runtime/process_util.cc:115] Creating new thread pool with default inter op setting: 8. Tune using inter_op_parallelism_threads for best performance.\n"
     ]
    }
   ],
   "source": [
    "model = keras.Sequential([\n",
    "    keras.layers.Dense(2000,input_shape = (3500,),activation= \"relu\"),\n",
    "    keras.layers.Dense(1000,activation = \"relu\"),\n",
    "    keras.layers.Dense(100 ,activation = \"relu\"),\n",
    "    keras.layers.Dense(2,activation = \"sigmoid\")\n",
    "])"
   ]
  },
  {
   "cell_type": "code",
   "execution_count": 44,
   "id": "a44b89c8",
   "metadata": {},
   "outputs": [],
   "source": [
    "model.compile(\n",
    "    optimizer = \"adam\",\n",
    "    loss = \"sparse_categorical_crossentropy\",\n",
    "    metrics = [\"accuracy\"]\n",
    ")"
   ]
  },
  {
   "cell_type": "code",
   "execution_count": 45,
   "id": "0a7572d3",
   "metadata": {},
   "outputs": [
    {
     "name": "stdout",
     "output_type": "stream",
     "text": [
      "Epoch 1/10\n",
      "79991/79991 [==============================] - 55s 686us/step - loss: 0.6673 - accuracy: 0.5692\n",
      "Epoch 2/10\n",
      "79991/79991 [==============================] - 56s 700us/step - loss: 0.5489 - accuracy: 0.7363\n",
      "Epoch 3/10\n",
      "79991/79991 [==============================] - 55s 690us/step - loss: 0.4714 - accuracy: 0.7773\n",
      "Epoch 4/10\n",
      "79991/79991 [==============================] - 58s 731us/step - loss: 0.4348 - accuracy: 0.7972\n",
      "Epoch 5/10\n",
      "79991/79991 [==============================] - 57s 709us/step - loss: 0.3831 - accuracy: 0.8269\n",
      "Epoch 6/10\n",
      "79991/79991 [==============================] - 51s 643us/step - loss: 0.3069 - accuracy: 0.8696\n",
      "Epoch 7/10\n",
      "79991/79991 [==============================] - 50s 620us/step - loss: 0.2318 - accuracy: 0.9058\n",
      "Epoch 8/10\n",
      "79991/79991 [==============================] - 48s 606us/step - loss: 0.1692 - accuracy: 0.9326\n",
      "Epoch 9/10\n",
      "79991/79991 [==============================] - 46s 575us/step - loss: 0.1305 - accuracy: 0.9479\n",
      "Epoch 10/10\n",
      "79991/79991 [==============================] - 50s 622us/step - loss: 0.1044 - accuracy: 0.9571\n"
     ]
    },
    {
     "data": {
      "text/plain": [
       "<keras.callbacks.callbacks.History at 0x7fe978a87f90>"
      ]
     },
     "execution_count": 45,
     "metadata": {},
     "output_type": "execute_result"
    }
   ],
   "source": [
    "model.fit(X_train_scaled,y_train,batch_size =7900 ,epochs =10)"
   ]
  },
  {
   "cell_type": "code",
   "execution_count": 46,
   "id": "4b1686ab",
   "metadata": {},
   "outputs": [
    {
     "name": "stdout",
     "output_type": "stream",
     "text": [
      "Epoch 1/10\n",
      "79991/79991 [==============================] - 48s 594us/step - loss: 0.6492 - accuracy: 0.5938\n",
      "Epoch 2/10\n",
      "79991/79991 [==============================] - 48s 605us/step - loss: 0.5236 - accuracy: 0.7521\n",
      "Epoch 3/10\n",
      "79991/79991 [==============================] - 48s 601us/step - loss: 0.4617 - accuracy: 0.7834\n",
      "Epoch 4/10\n",
      "79991/79991 [==============================] - 45s 567us/step - loss: 0.4119 - accuracy: 0.8123\n",
      "Epoch 5/10\n",
      "79991/79991 [==============================] - 49s 613us/step - loss: 0.3384 - accuracy: 0.8532\n",
      "Epoch 6/10\n",
      "79991/79991 [==============================] - 49s 618us/step - loss: 0.2396 - accuracy: 0.9045\n",
      "Epoch 7/10\n",
      "79991/79991 [==============================] - 49s 616us/step - loss: 0.1704 - accuracy: 0.9335\n",
      "Epoch 8/10\n",
      "79991/79991 [==============================] - 47s 584us/step - loss: 0.1212 - accuracy: 0.9527\n",
      "Epoch 9/10\n",
      "79991/79991 [==============================] - 50s 627us/step - loss: 0.0941 - accuracy: 0.9620\n",
      "Epoch 10/10\n",
      "79991/79991 [==============================] - 45s 564us/step - loss: 0.0765 - accuracy: 0.9693\n"
     ]
    },
    {
     "data": {
      "text/plain": [
       "<keras.callbacks.callbacks.History at 0x7fe99a554090>"
      ]
     },
     "execution_count": 46,
     "metadata": {},
     "output_type": "execute_result"
    }
   ],
   "source": [
    "model1 = keras.Sequential([\n",
    "    keras.layers.Dense(2000,input_shape = (3500,),activation= \"relu\"),\n",
    "    keras.layers.Dense(1000,activation = \"relu\"),\n",
    "    keras.layers.Dense(100 ,activation = \"relu\"),\n",
    "    keras.layers.Dense(2,activation = \"sigmoid\")\n",
    "])\n",
    "model1.compile(\n",
    "    optimizer = \"adam\",\n",
    "    loss = \"sparse_categorical_crossentropy\",\n",
    "    metrics = [\"accuracy\"]\n",
    ")\n",
    "model1.fit(X_train,y_train,batch_size =7900 ,epochs =10)"
   ]
  },
  {
   "cell_type": "code",
   "execution_count": 47,
   "id": "1eb5dc09",
   "metadata": {},
   "outputs": [],
   "source": [
    "y_predicted_model1 = model1.predict(X_test)\n",
    "y_predicted_model1_label = [np.argmax(i) for i in y_predicted_model1]"
   ]
  },
  {
   "cell_type": "code",
   "execution_count": 48,
   "id": "cb4ef40e",
   "metadata": {},
   "outputs": [
    {
     "data": {
      "text/plain": [
       "0"
      ]
     },
     "execution_count": 48,
     "metadata": {},
     "output_type": "execute_result"
    }
   ],
   "source": [
    "y_predicted_model1_label[0]"
   ]
  },
  {
   "cell_type": "markdown",
   "id": "8fd9a311",
   "metadata": {},
   "source": [
    "## Heatmap"
   ]
  },
  {
   "cell_type": "markdown",
   "id": "ecf1dd08",
   "metadata": {},
   "source": [
    "### Model-1 (ANN model)"
   ]
  },
  {
   "cell_type": "code",
   "execution_count": 49,
   "id": "d257653e",
   "metadata": {},
   "outputs": [
    {
     "data": {
      "text/plain": [
       "Text(33.0, 0.5, 'Original')"
      ]
     },
     "execution_count": 49,
     "metadata": {},
     "output_type": "execute_result"
    },
    {
     "data": {
      "image/png": "[encoded data removed]",
      "text/plain": [
       "<Figure size 432x288 with 2 Axes>"
      ]
     },
     "metadata": {
      "needs_background": "light"
     },
     "output_type": "display_data"
    }
   ],
   "source": [
    "import tensorflow as tf\n",
    "cm_1 = tf.math.confusion_matrix(labels = y_test,predictions = y_predicted_model1_label)\n",
    "\n",
    "import seaborn as sns\n",
    "sns.heatmap(cm_1,annot = True,fmt = 'd')\n",
    "plt.xlabel(\"Predicted\")\n",
    "plt.ylabel(\"Original\")"
   ]
  },
  {
   "cell_type": "markdown",
   "id": "f319e1ac",
   "metadata": {},
   "source": [
    "### Model-2 (ANN model)"
   ]
  },
  {
   "cell_type": "code",
   "execution_count": 50,
   "id": "bd319ad7",
   "metadata": {},
   "outputs": [
    {
     "data": {
      "text/plain": [
       "Text(33.0, 0.5, 'Original')"
      ]
     },
     "execution_count": 50,
     "metadata": {},
     "output_type": "execute_result"
    },
    {
     "data": {
      "image/png": "[encoded data removed]",
      "text/plain": [
       "<Figure size 432x288 with 2 Axes>"
      ]
     },
     "metadata": {
      "needs_background": "light"
     },
     "output_type": "display_data"
    }
   ],
   "source": [
    "y_predicted_model2 = model.predict(X_test)\n",
    "y_predicted_model2_label = [np.argmax(i) for i in y_predicted_model2]\n",
    "\n",
    "import tensorflow as tf\n",
    "cm_2 = tf.math.confusion_matrix(labels = y_test,predictions = y_predicted_model2_label)\n",
    "\n",
    "import seaborn as sns\n",
    "sns.heatmap(cm_2,annot = True,fmt = 'd')\n",
    "plt.xlabel(\"Predicted\")\n",
    "plt.ylabel(\"Original\")"
   ]
  },
  {
   "cell_type": "markdown",
   "id": "5db49e31",
   "metadata": {},
   "source": [
    "### Model-3 (MultinominalModel)"
   ]
  },
  {
   "cell_type": "code",
   "execution_count": 51,
   "id": "5375d51f",
   "metadata": {},
   "outputs": [
    {
     "data": {
      "text/plain": [
       "Text(33.0, 0.5, 'Original')"
      ]
     },
     "execution_count": 51,
     "metadata": {},
     "output_type": "execute_result"
    },
    {
     "data": {
      "image/png": "[encoded data removed]",
      "text/plain": [
       "<Figure size 432x288 with 2 Axes>"
      ]
     },
     "metadata": {
      "needs_background": "light"
     },
     "output_type": "display_data"
    }
   ],
   "source": [
    "y_predicted_model3 = MultinominalModel.predict(X_test)\n",
    "# y_predicted_model3_label = [np.argmax(i) for i in y_predicted_model3]\n",
    "\n",
    "import tensorflow as tf\n",
    "cm_3 = tf.math.confusion_matrix(labels = y_test,predictions = y_predicted_model3)\n",
    "\n",
    "import seaborn as sns\n",
    "sns.heatmap(cm_3,annot = True,fmt = 'd')\n",
    "plt.xlabel(\"Predicted\")\n",
    "plt.ylabel(\"Original\")"
   ]
  }
 ],
 "metadata": {
  "kernelspec": {
   "display_name": "Python 3 (ipykernel)",
   "language": "python",
   "name": "python3"
  },
  "language_info": {
   "codemirror_mode": {
    "name": "ipython",
    "version": 3
   },
   "file_extension": ".py",
   "mimetype": "text/x-python",
   "name": "python",
   "nbconvert_exporter": "python",
   "pygments_lexer": "ipython3",
   "version": "3.7.12"
  }
 },
 "nbformat": 4,
 "nbformat_minor": 5
}
